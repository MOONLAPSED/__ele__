{
 "cells": [
  {
   "cell_type": "code",
   "execution_count": 1,
   "metadata": {},
   "outputs": [
    {
     "data": {
      "text/plain": [
       "\"Semantic chunking -\\n    Split the text by a given level\\n    For each section, does it fit within the chunk size?\\n        Yes. Merge as many of these neighboring sections into a chunk as possible to maximize chunk length.\\n        No. Split by the next level and repeat.\\n    Return the chunks\\n## Linear Algebra Concepts\\n- **Linear Combinations:** Combining vectors through multiples (x, y) to achieve a target vector.\\n- **Elimination:** Gaussian elimination helps solve linear equations and assess solution existence.\\n- **Perpendicularity:** Linear independence and perpendicularity contribute to the dimensionality of movement.\\n- **Singular Matrix:** A matrix with linearly dependent columns, leading to challenges.\\n\\n### Why a Singular Matrix Matters\\n1. **No Unique Solution:** Infinite variable combinations yield the same result.\\n2. **No Inverse:** Singular matrices can't be inverted, impacting mathematical operations.\\n\\n## Matrix Operation Fundamentals\\n- **Ax = b: Matrix Multiplication**\\n  - A matrix (A) multiplied by a vector (x) results in another vector (b).\\n  - Each element of the output vector is the dot product of a row of A with the column vector x.\\n- **Linear Combination:**\\n  - Matrix multiplication expresses a linear combination of a matrix's columns.\\n\\n## Conclusion\\nWhether a matrix is singular depends on the linear independence of its columns. Linearly independent columns lead to a unique solution, while linearly dependent columns result in a singular matrix and potential lack of solutions.\\n1) Python the programming language is a useful tool. It has a wide range of applications, from web development to data analysis.\\nPython is also a great language for beginners, as it is easy to learn and understand. |In <this> article, we will discuss some of the best Python libraries for data analysis.\\n\""
      ]
     },
     "execution_count": 1,
     "metadata": {},
     "output_type": "execute_result"
    }
   ],
   "source": [
    "from semantic_text_splitter import CharacterTextSplitter\n",
    "\"\"\"Semantic chunking -\n",
    "    Split the text by a given level\n",
    "    For each section, does it fit within the chunk size?\n",
    "        Yes. Merge as many of these neighboring sections into a chunk as possible to maximize chunk length.\n",
    "        No. Split by the next level and repeat.\n",
    "    Return the chunks\n",
    "## Linear Algebra Concepts\n",
    "- **Linear Combinations:** Combining vectors through multiples (x, y) to achieve a target vector.\n",
    "- **Elimination:** Gaussian elimination helps solve linear equations and assess solution existence.\n",
    "- **Perpendicularity:** Linear independence and perpendicularity contribute to the dimensionality of movement.\n",
    "- **Singular Matrix:** A matrix with linearly dependent columns, leading to challenges.\n",
    "\n",
    "### Why a Singular Matrix Matters\n",
    "1. **No Unique Solution:** Infinite variable combinations yield the same result.\n",
    "2. **No Inverse:** Singular matrices can\\'t be inverted, impacting mathematical operations.\n",
    "\n",
    "## Matrix Operation Fundamentals\n",
    "- **Ax = b: Matrix Multiplication**\n",
    "  - A matrix (A) multiplied by a vector (x) results in another vector (b).\n",
    "  - Each element of the output vector is the dot product of a row of A with the column vector x.\n",
    "- **Linear Combination:**\n",
    "  - Matrix multiplication expresses a linear combination of a matrix's columns.\n",
    "\n",
    "## Conclusion\n",
    "Whether a matrix is singular depends on the linear independence of its columns. Linearly independent columns lead to a unique solution, while linearly dependent columns result in a singular matrix and potential lack of solutions.\n",
    "1) Python the programming language is a useful tool. It has a wide range of applications, from web development to data analysis.\n",
    "Python is also a great language for beginners, as it is easy to learn and understand. |In <this> article, we will discuss some of the best Python libraries for data analysis.\\n\"\"\""
   ]
  },
  {
   "cell_type": "code",
   "execution_count": null,
   "metadata": {},
   "outputs": [],
   "source": []
  }
 ],
 "metadata": {
  "kernelspec": {
   "display_name": "three11",
   "language": "python",
   "name": "python3"
  },
  "language_info": {
   "codemirror_mode": {
    "name": "ipython",
    "version": 3
   },
   "file_extension": ".py",
   "mimetype": "text/x-python",
   "name": "python",
   "nbconvert_exporter": "python",
   "pygments_lexer": "ipython3",
   "version": "3.11.7"
  }
 },
 "nbformat": 4,
 "nbformat_minor": 2
}
